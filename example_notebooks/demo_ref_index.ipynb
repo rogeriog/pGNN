{
 "cells": [
  {
   "cell_type": "markdown",
   "metadata": {},
   "source": [
    "# Featurizing the dataset with pGNN\n",
    "\n",
    "This notebook goes through the main functions and objects implemented in the pGNN library. Based on a dataset containing ~4,000 entries of type (mp_id, structure, refractive index) taken from the MaterialsProject (MP)."
   ]
  },
  {
   "cell_type": "markdown",
   "metadata": {},
   "source": [
    "## 1. Loading the dataset\n",
    "\n",
    "In this example the dataset is a dataframe saved as a pickle. But it can be any format as long as you can retreive the structures and targets."
   ]
  },
  {
   "cell_type": "code",
   "execution_count": 1,
   "metadata": {},
   "outputs": [
    {
     "name": "stdout",
     "output_type": "stream",
     "text": [
      "4022 datapoints\n"
     ]
    },
    {
     "data": {
      "text/html": [
       "<div>\n",
       "<style scoped>\n",
       "    .dataframe tbody tr th:only-of-type {\n",
       "        vertical-align: middle;\n",
       "    }\n",
       "\n",
       "    .dataframe tbody tr th {\n",
       "        vertical-align: top;\n",
       "    }\n",
       "\n",
       "    .dataframe thead th {\n",
       "        text-align: right;\n",
       "    }\n",
       "</style>\n",
       "<table border=\"1\" class=\"dataframe\">\n",
       "  <thead>\n",
       "    <tr style=\"text-align: right;\">\n",
       "      <th></th>\n",
       "      <th>structure</th>\n",
       "      <th>ref_index</th>\n",
       "    </tr>\n",
       "  </thead>\n",
       "  <tbody>\n",
       "    <tr>\n",
       "      <th>mp-624234</th>\n",
       "      <td>[[0.67808954 1.32800354 5.90141888] Te, [1.500...</td>\n",
       "      <td>2.440483</td>\n",
       "    </tr>\n",
       "    <tr>\n",
       "      <th>mp-560478</th>\n",
       "      <td>[[-0.62755181  6.55361247  9.268476  ] Ba, [4....</td>\n",
       "      <td>1.790685</td>\n",
       "    </tr>\n",
       "    <tr>\n",
       "      <th>mp-556346</th>\n",
       "      <td>[[4.43332093 4.12714801 8.8721209 ] Pr, [ 1.40...</td>\n",
       "      <td>2.056131</td>\n",
       "    </tr>\n",
       "    <tr>\n",
       "      <th>mp-13676</th>\n",
       "      <td>[[-0.14481557  3.41229366  4.12618551] O, [3.2...</td>\n",
       "      <td>2.023772</td>\n",
       "    </tr>\n",
       "    <tr>\n",
       "      <th>mp-7610</th>\n",
       "      <td>[[ 0.12549448  3.01287591 -0.20434955] Li, [1....</td>\n",
       "      <td>1.745509</td>\n",
       "    </tr>\n",
       "  </tbody>\n",
       "</table>\n",
       "</div>"
      ],
      "text/plain": [
       "                                                   structure  ref_index\n",
       "mp-624234  [[0.67808954 1.32800354 5.90141888] Te, [1.500...   2.440483\n",
       "mp-560478  [[-0.62755181  6.55361247  9.268476  ] Ba, [4....   1.790685\n",
       "mp-556346  [[4.43332093 4.12714801 8.8721209 ] Pr, [ 1.40...   2.056131\n",
       "mp-13676   [[-0.14481557  3.41229366  4.12618551] O, [3.2...   2.023772\n",
       "mp-7610    [[ 0.12549448  3.01287591 -0.20434955] Li, [1....   1.745509"
      ]
     },
     "execution_count": 1,
     "metadata": {},
     "output_type": "execute_result"
    }
   ],
   "source": [
    "import pandas as pd\n",
    "df = pd.read_pickle('data/df_ref_index.pkl')\n",
    "print('{} datapoints'.format(len(df)))\n",
    "df.head()"
   ]
  },
  {
   "cell_type": "markdown",
   "metadata": {},
   "source": [
    "## 2. Import the featurizers"
   ]
  },
  {
   "cell_type": "markdown",
   "metadata": {},
   "source": [
    "In this section, we will explore various featurizers provided by the pGNN library. These featurizers are used to convert the structural information of materials into numerical representations that can be used for machine learning models. The featurizers we will be using include:\n",
    "\n",
    "- `l_MM_v1`: Latent MatMiner Featurizer version 1\n",
    "- `l_OFM_v1`: Latent OFM Featurizer version 1\n",
    "- `mvl16`: MVL Featurizer with 16 features\n",
    "- `mvl32`: MVL Featurizer with 32 features\n",
    "- `adj_megnet`: Adjacent MEGNet Featurizer\n",
    "- `adj_megnet_layer16`: Adjacent MEGNet Featurizer with 16 layers\n",
    "\n",
    "We will apply these featurizers to our dataset and generate feature sets that will be used for training and evaluating machine learning models."
   ]
  },
  {
   "cell_type": "code",
   "execution_count": 10,
   "metadata": {},
   "outputs": [
    {
     "name": "stdout",
     "output_type": "stream",
     "text": [
      "Featurizing with l_MM_v1...\n"
     ]
    },
    {
     "name": "stdout",
     "output_type": "stream",
     "text": [
      "Total params: 681,702\n",
      "Following invalid structures: [].\n",
      "l_MM_v1 features shape: (4022, 759)\n",
      "Featurizing with l_OFM_v1...\n",
      "Total params: 644,652\n",
      "Following invalid structures: [].\n",
      "l_OFM_v1 features shape: (4022, 189)\n",
      "Featurizing with mvl32...\n",
      "Features calculated for model Efermi_MP_2019.\n",
      "Features calculated for model Bandgap_MP_2018.\n",
      "Features calculated for model logK_MP_2019.\n",
      "Features calculated for model logG_MP_2019.\n",
      "mvl32 features shape: (4022, 128)\n",
      "Featurizing with mvl16...\n",
      "Features calculated for model Efermi_MP_2019.\n",
      "Features calculated for model Bandgap_MP_2018.\n",
      "Features calculated for model logK_MP_2019.\n",
      "Features calculated for model logG_MP_2019.\n",
      "mvl16 features shape: (4022, 64)\n"
     ]
    }
   ],
   "source": [
    "## Code to generate the features, might take a while\n",
    "## if not using GPU acceleration. Consider using the\n",
    "## pre-generated features in the data folder instead.\n",
    "\n",
    "# from pgnn.featurizers.structure import ( l_MM_v1, \n",
    "#                                         l_OFM_v1, \n",
    "#                                         mvl32, \n",
    "#                                         mvl16\n",
    "#                                        )\n",
    "# print(\"Featurizing with l_MM_v1...\")\n",
    "# df_mmv1 = l_MM_v1.get_features(df['structure'])\n",
    "# print(\"l_MM_v1 features shape:\", df_mmv1.shape)\n",
    "\n",
    "# print(\"Featurizing with l_OFM_v1...\")\n",
    "# df_ofm = l_OFM_v1.get_features(df['structure'])\n",
    "# print(\"l_OFM_v1 features shape:\", df_ofm.shape)\n",
    "\n",
    "# print(\"Featurizing with mvl32...\")\n",
    "# df_mvl32 = mvl32.get_features(df['structure'])\n",
    "# print(\"mvl32 features shape:\", df_mvl32.shape)\n",
    "\n",
    "# print(\"Featurizing with mvl16...\")\n",
    "# df_mvl16 = mvl16.get_features(df['structure'])\n",
    "# print(\"mvl16 features shape:\", df_mvl16.shape)\n"
   ]
  },
  {
   "cell_type": "code",
   "execution_count": 11,
   "metadata": {},
   "outputs": [
    {
     "name": "stdout",
     "output_type": "stream",
     "text": [
      "Dataframes have been saved to the ./data folder.\n"
     ]
    }
   ],
   "source": [
    "# Save all dataframes to the ./data folder\n",
    "# df_mmv1.to_pickle('./data/df_mmv1.pkl')\n",
    "# df_ofm.to_pickle('./data/df_ofm.pkl')\n",
    "# df_mvl32.to_pickle('./data/df_mvl32.pkl')\n",
    "# df_mvl16.to_pickle('./data/df_mvl16.pkl')\n",
    "\n",
    "# print(\"Dataframes have been saved to the ./data folder.\")"
   ]
  },
  {
   "cell_type": "code",
   "execution_count": 2,
   "metadata": {},
   "outputs": [
    {
     "name": "stdout",
     "output_type": "stream",
     "text": [
      "Dataframes have been loaded from the ./data folder.\n"
     ]
    }
   ],
   "source": [
    "## Load the dataframes from the ./data folder\n",
    "import pandas as pd\n",
    "\n",
    "# Load the dataframes from the pickle files\n",
    "df_mmv1 = pd.read_pickle('./data/df_mmv1.pkl')\n",
    "df_ofm = pd.read_pickle('./data/df_ofm.pkl')\n",
    "df_mvl32 = pd.read_pickle('./data/df_mvl32.pkl')\n",
    "df_mvl16 = pd.read_pickle('./data/df_mvl16.pkl')\n",
    "\n",
    "print(\"Dataframes have been loaded from the ./data folder.\")"
   ]
  },
  {
   "cell_type": "code",
   "execution_count": 4,
   "metadata": {},
   "outputs": [
    {
     "name": "stdout",
     "output_type": "stream",
     "text": [
      "Training adj_megnet...\n",
      "Featurizing with adj_megnet...\n"
     ]
    },
    {
     "name": "stdout",
     "output_type": "stream",
     "text": [
      "Total params: 167,761\n",
      "Features calculated for model Adjacent.\n",
      "adj_megnet features shape: (4022, 32)\n",
      "Featurizing with adj_megnet_layer16...\n",
      "Total params: 167,761\n",
      "Features calculated for model Adjacent.\n",
      "adj_megnet_layer16 features shape: (4022, 16)\n"
     ]
    }
   ],
   "source": [
    "# The adjacent model needs to be trained beforehand.\n",
    "# It is custom made for this dataset including the target.\n",
    "from pgnn.featurizers.structure import ( adj_megnet,\n",
    "                                        adj_megnet_layer16\n",
    "                                       )\n",
    "print(\"Training adj_megnet...\")\n",
    "# Consider reading the docs for the train_adjacent_megnet function\n",
    "# for better understanding of the parameters.\n",
    "# adj_megnet.train_adjacent_megnet(df['structure'], df['ref_index'],\n",
    "#                                  adjacent_model_path='./data',\n",
    "#                                  max_epochs=10)\n",
    "\n",
    "print(\"Featurizing with adj_megnet...\")\n",
    "df_adj_megnet = adj_megnet.get_features(df['structure'], model_path='./data')\n",
    "print(\"adj_megnet features shape:\", df_adj_megnet.shape)\n",
    "\n",
    "print(\"Featurizing with adj_megnet_layer16...\")\n",
    "df_adj_megnet_layer16 = adj_megnet_layer16.get_features(df['structure'], model_path='./data')\n",
    "print(\"adj_megnet_layer16 features shape:\", df_adj_megnet_layer16.shape)"
   ]
  },
  {
   "cell_type": "code",
   "execution_count": 5,
   "metadata": {},
   "outputs": [
    {
     "name": "stdout",
     "output_type": "stream",
     "text": [
      "Dataframes have been saved to the ./data folder.\n"
     ]
    }
   ],
   "source": [
    "# Save dataframes to the ./data folder\n",
    "df_adj_megnet.to_pickle('./data/df_adj_megnet.pkl')\n",
    "df_adj_megnet_layer16.to_pickle('./data/df_adj_megnet_layer16.pkl')\n",
    "\n",
    "print(\"Dataframes have been saved to the ./data folder.\")"
   ]
  },
  {
   "cell_type": "code",
   "execution_count": 6,
   "metadata": {},
   "outputs": [
    {
     "name": "stdout",
     "output_type": "stream",
     "text": [
      "Dataframes have been loaded from the ./data folder.\n"
     ]
    }
   ],
   "source": [
    "import pandas as pd\n",
    "\n",
    "# Load the dataframes from the pickle files\n",
    "df_adj_megnet = pd.read_pickle('./data/df_adj_megnet.pkl')\n",
    "df_adj_megnet_layer16 = pd.read_pickle('./data/df_adj_megnet_layer16.pkl')\n",
    "\n",
    "print(\"Dataframes have been loaded from the ./data folder.\")"
   ]
  },
  {
   "cell_type": "markdown",
   "metadata": {},
   "source": [
    "### (b) Test the different feature sets for prediction\n",
    "We use scikit-learn models and XGBoost to evaluate the prediction performance of various feature combinations. "
   ]
  },
  {
   "cell_type": "code",
   "execution_count": 13,
   "metadata": {},
   "outputs": [],
   "source": [
    "# We will now clean the features by removing the 'structure' column\n",
    "def remove_structure_column(X):\n",
    "    # Drop the 'structure' column if it exists\n",
    "    if 'structure' in X.columns:\n",
    "        X = X.drop(columns=['structure'])\n",
    "    return X\n",
    "# Removes 'structure' column from the features \n",
    "df_mmv1 = remove_structure_column(df_mmv1)\n",
    "df_ofm = remove_structure_column(df_ofm)\n",
    "df_mvl32 = remove_structure_column(df_mvl32)\n",
    "df_mvl16 = remove_structure_column(df_mvl16)\n",
    "df_adj_megnet = remove_structure_column(df_adj_megnet)\n",
    "df_adj_megnet_layer16 = remove_structure_column(df_adj_megnet_layer16)"
   ]
  },
  {
   "cell_type": "code",
   "execution_count": 14,
   "metadata": {},
   "outputs": [
    {
     "name": "stdout",
     "output_type": "stream",
     "text": [
      "Processing combination: l_MM_v1\n"
     ]
    },
    {
     "name": "stdout",
     "output_type": "stream",
     "text": [
      "MAE: 0.0963, RMSE: 0.1690, R2: 0.8448\n",
      "Processing combination: l_MM_v1 + l_OFM_v1\n",
      "MAE: 0.0927, RMSE: 0.1698, R2: 0.8434\n",
      "Processing combination: l_MM_v1 + l_OFM_v1 + mvl32\n",
      "MAE: 0.0813, RMSE: 0.1537, R2: 0.8716\n",
      "Processing combination: l_MM_v1 + l_OFM_v1 + mvl16\n",
      "MAE: 0.0811, RMSE: 0.1554, R2: 0.8689\n",
      "Processing combination: l_MM_v1 + l_OFM_v1 + mvl32 + adj_megnet\n",
      "MAE: 0.0703, RMSE: 0.1371, R2: 0.8978\n",
      "Processing combination: l_MM_v1 + l_OFM_v1 + mvl16 + adj_megnet_layer16\n",
      "MAE: 0.0671, RMSE: 0.1247, R2: 0.9156\n"
     ]
    },
    {
     "data": {
      "image/png": "[encoded data removed]",
      "text/plain": [
       "<Figure size 1200x600 with 1 Axes>"
      ]
     },
     "metadata": {},
     "output_type": "display_data"
    }
   ],
   "source": [
    "# Import necessary libraries\n",
    "import pandas as pd\n",
    "import numpy as np\n",
    "from sklearn.model_selection import train_test_split\n",
    "from sklearn.metrics import mean_absolute_error, mean_squared_error, r2_score\n",
    "from xgboost import XGBRegressor\n",
    "import matplotlib.pyplot as plt\n",
    "import seaborn as sns\n",
    "    \n",
    "# Ensure that the feature dataframes have the same index as df\n",
    "df_mmv1.index = df.index\n",
    "df_ofm.index = df.index\n",
    "df_mvl32.index = df.index\n",
    "df_mvl16.index = df.index\n",
    "df_adj_megnet.index = df.index\n",
    "df_adj_megnet_layer16.index = df.index\n",
    "\n",
    "# Define combinations of features\n",
    "feature_combinations = {\n",
    "    'l_MM_v1': [df_mmv1],\n",
    "    'l_MM_v1 + l_OFM_v1': [df_mmv1, df_ofm],\n",
    "    'l_MM_v1 + l_OFM_v1 + mvl32': [df_mmv1, df_ofm, df_mvl32],\n",
    "    'l_MM_v1 + l_OFM_v1 + mvl16': [df_mmv1, df_ofm, df_mvl16],\n",
    "    'l_MM_v1 + l_OFM_v1 + mvl32 + adj_megnet': [df_mmv1, df_ofm, df_mvl32, df_adj_megnet],\n",
    "    'l_MM_v1 + l_OFM_v1 + mvl16 + adj_megnet_layer16': [df_mmv1, df_ofm, df_mvl16, df_adj_megnet_layer16]\n",
    "}\n",
    "\n",
    "# Initialize a dataframe to store metrics\n",
    "metrics_df = pd.DataFrame(columns=['Combination', 'MAE', 'RMSE', 'R2'])\n",
    "\n",
    "# Loop over each combination\n",
    "for combination_name, feature_dfs in feature_combinations.items():\n",
    "    print(f'Processing combination: {combination_name}')\n",
    "    # Concatenate features\n",
    "    X = pd.concat(feature_dfs, axis=1)\n",
    "    y = df['ref_index']\n",
    "    \n",
    "    # Split data into training and testing sets\n",
    "    X_train, X_test, y_train, y_test = train_test_split(X, y, test_size=0.2, random_state=42)\n",
    "    \n",
    "    # Initialize and train the model\n",
    "    model = XGBRegressor(objective='reg:squarederror', random_state=42)\n",
    "    model.fit(X_train, y_train)\n",
    "    \n",
    "    # Predict on the test set\n",
    "    y_pred = model.predict(X_test)\n",
    "    \n",
    "    # Calculate metrics\n",
    "    mae = mean_absolute_error(y_test, y_pred)\n",
    "    rmse = np.sqrt(mean_squared_error(y_test, y_pred))\n",
    "    r2 = r2_score(y_test, y_pred)\n",
    "    \n",
    "    # Store metrics\n",
    "    metrics_df = metrics_df.append({\n",
    "        'Combination': combination_name,\n",
    "        'MAE': mae,\n",
    "        'RMSE': rmse,\n",
    "        'R2': r2\n",
    "    }, ignore_index=True)\n",
    "    \n",
    "    print(f'MAE: {mae:.4f}, RMSE: {rmse:.4f}, R2: {r2:.4f}')"
   ]
  },
  {
   "cell_type": "code",
   "execution_count": null,
   "metadata": {},
   "outputs": [],
   "source": [
    "\n",
    "# Plot the metrics\n",
    "plt.figure(figsize=(12, 6))\n",
    "metrics_melted = metrics_df.melt(id_vars='Combination', value_vars=['MAE', 'RMSE', 'R2'], var_name='Metric', value_name='Value')\n",
    "sns.barplot(x='Combination', y='Value', hue='Metric', data=metrics_melted)\n",
    "plt.xticks(rotation=45, ha='right')\n",
    "plt.title('Model Performance Metrics for Different Feature Combinations')\n",
    "plt.ylabel('Metric Value')\n",
    "plt.xlabel('Feature Combination')\n",
    "plt.legend(loc='upper right')\n",
    "plt.tight_layout()\n",
    "plt.show()"
   ]
  }
 ],
 "metadata": {
  "kernelspec": {
   "display_name": "env_tfmodnet",
   "language": "python",
   "name": "python3"
  },
  "language_info": {
   "codemirror_mode": {
    "name": "ipython",
    "version": 3
   },
   "file_extension": ".py",
   "mimetype": "text/x-python",
   "name": "python",
   "nbconvert_exporter": "python",
   "pygments_lexer": "ipython3",
   "version": "3.8.16"
  }
 },
 "nbformat": 4,
 "nbformat_minor": 4
}
